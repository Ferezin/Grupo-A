{
 "cells": [
  {
   "cell_type": "code",
   "execution_count": 108,
   "metadata": {},
   "outputs": [
    {
     "data": {
      "image/png": "[encoded data removed]",
      "text/plain": [
       "<PIL.Image.Image image mode=RGB size=256x100 at 0x11066DEB0>"
      ]
     },
     "execution_count": 108,
     "metadata": {},
     "output_type": "execute_result"
    },
    {
     "data": {
      "image/png": "[encoded data removed]",
      "text/plain": [
       "<Figure size 432x288 with 1 Axes>"
      ]
     },
     "metadata": {
      "needs_background": "light"
     },
     "output_type": "display_data"
    }
   ],
   "source": [
    "import matplotlib.pyplot as plt\n",
    "from PIL import Image\n",
    "import sys\n",
    "\n",
    "path = \"LD30x20.png\"\n",
    "# path = \"c/lena_color.bmp\"\n",
    "\n",
    "hist_data = [0]*256\n",
    "max = 0\n",
    "hist = create_image(256, 100)\n",
    "\n",
    "original = Image.open(path)\n",
    "width, height = original.size\n",
    "pixels = original.load()\n",
    "for i in range(width):\n",
    "  for j in range(height):\n",
    "    # Get Pixel\n",
    "    pixel = original.getpixel((i, j))\n",
    "    # Get R, G, B values (This are int from 0 to 255)\n",
    "    red =   pixel[0]\n",
    "    green = pixel[1]\n",
    "    blue =  pixel[2]\n",
    "    # Transform to grayscale (hardware friendly)\n",
    "    # gray = (red+(green<<1)+blue)>>2\n",
    "    # Transform to grayscale (float)\n",
    "    gray = int(red * 0.299 + green * 0.587 + blue * 0.114);\n",
    "    # Set Pixel in new image\n",
    "    pixels[i, j] = (int(gray), int(gray), int(gray))\n",
    "    hist_data[gray] += 1\n",
    "    if hist_data[gray] > max:\n",
    "      max = hist_data[gray];\n",
    "plt.plot(original.histogram()[256:511])\n",
    "pixels = hist.load()\n",
    "for i in range(256):\n",
    "  bar = hist_data[i]/max*100;\n",
    "  for j in range(100):\n",
    "    pixels[i,99-j] = (0, 0, 0) if j < bar else (255, 255, 255);\n",
    "hist"
   ]
  }
 ],
 "metadata": {
  "kernelspec": {
   "display_name": "Python 3",
   "language": "python",
   "name": "python3"
  },
  "language_info": {
   "codemirror_mode": {
    "name": "ipython",
    "version": 3
   },
   "file_extension": ".py",
   "mimetype": "text/x-python",
   "name": "python",
   "nbconvert_exporter": "python",
   "pygments_lexer": "ipython3",
   "version": "3.9.1"
  }
 },
 "nbformat": 4,
 "nbformat_minor": 2
}
